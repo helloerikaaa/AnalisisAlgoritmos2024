{
 "cells": [
  {
   "cell_type": "markdown",
   "id": "c2e4de6c-4151-4180-8587-ec4428b62c9c",
   "metadata": {},
   "source": [
    "### Unidad 1: Análisis de la Complejidad Computacional\n",
    "### Ejercicio 1.2: Comparación de Tiempos de Ejecución\n",
    "\n",
    "Referencias:\n",
    "\n",
    "- Introduction to Algorithms, Thomas H. Cormen & Charles E. Leiserson & Ronald L. Rivest & Clifford Stein. Third Edition. Problem 1-1 (p. 15 )"
   ]
  },
  {
   "cell_type": "markdown",
   "id": "76c84d1f-b77f-4f8b-af8a-cc7dc330b013",
   "metadata": {},
   "source": [
    "### 1. Descripción del Problema:\n",
    "Para cada función $f(n)$ y tiempo $t$ en la tabla siguiente, determina el tamaño más grande de $n$ de un problema que puede ser resuelto en un tiempo $t$, suponiendo que el algoritmo para resolver el problema toma $f(n)$ microsegundos.\n",
    "\n",
    "\n",
    "|          | 1 segundo | 1 minuto | 1 hora | 1 día | 1 mes | 1 año |\n",
    "|----------|-----------|----------|--------|-------|-------|-------|\n",
    "| O(n)     |           |          |        |       |       |       |\n",
    "| O(nlogn) |           |          |        |       |       |       |\n",
    "| O(n^2)   |           |          |        |       |       |       |\n",
    "| O(2^n)   |           |          |        |       |       |       |\n",
    "| O(n!)    |           |          |        |       |       |       |"
   ]
  },
  {
   "cell_type": "markdown",
   "id": "d729b1ab-50e2-417a-8e27-4dea2d71453d",
   "metadata": {},
   "source": [
    "### 2. Importación de Paquetes necesarios\n",
    "- Math: Operaciones matemáticas.\n",
    "- Pandas: Manejo de datos. Para instalar: `pip install pandas`"
   ]
  },
  {
   "cell_type": "code",
   "execution_count": 1,
   "id": "6b74f2d3-1de1-4157-accd-e129ca8d9359",
   "metadata": {},
   "outputs": [],
   "source": [
    "import math\n",
    "import pandas as pd"
   ]
  },
  {
   "cell_type": "markdown",
   "id": "b3407cd6-0869-4076-a58a-c41ff57853d3",
   "metadata": {},
   "source": [
    "### 3. Declaración de funciones de complejidad\n",
    "Una función de complejidad computacional es una función que relaciona el tamaño de entrada de un problema con el tiempo o espacio necesario para resolverlo.\n",
    "Se utiliza principalmente en la clasificación de problemas computacionales, donde se busca determinar cuál es la complejidad del problema para luego proceder a categorizarlo dentro de las diferentes clases de complejidad como P y NP, por ejemplo.\n",
    "\n",
    "Para este ejercicio utilizaremos las funciones de complejidad más utilizadas:\n",
    "- O($n$): Función lineal\n",
    "- O($nlogn$): Función Lineal Logarítmica\n",
    "- O($n^{2}$): Función Cuadrática\n",
    "- O($2^{n}$): Función Exponencial\n",
    "- O(($n!$): Función Factorial\n",
    "\n",
    "\n",
    "Se omite la función constante ya que su resultado siempre es igual a 1 sin importar el tamaño de la entrada $n$."
   ]
  },
  {
   "cell_type": "code",
   "execution_count": 2,
   "id": "bb579b4d-c20a-47c7-9945-53d9d49a4c72",
   "metadata": {},
   "outputs": [],
   "source": [
    "def f_lineal(n: int) -> int:\n",
    "    return n"
   ]
  },
  {
   "cell_type": "code",
   "execution_count": 3,
   "id": "a37ef12a-9bce-460a-bd5a-7219dd732c8d",
   "metadata": {},
   "outputs": [],
   "source": [
    "def f_cuadratico(n: int) -> int:\n",
    "    return n**2"
   ]
  },
  {
   "cell_type": "code",
   "execution_count": 4,
   "id": "0cabddbe-fbd7-4ee3-a415-6f5188db205b",
   "metadata": {},
   "outputs": [],
   "source": [
    "def f_lineal_log(n: int) -> float:\n",
    "    return n * math.log(n)"
   ]
  },
  {
   "cell_type": "code",
   "execution_count": 5,
   "id": "47ba5558-d53b-4d80-bc17-31b1e2ca04d3",
   "metadata": {},
   "outputs": [],
   "source": [
    "def f_exponencial(n: int) -> int:\n",
    "    return 2**n"
   ]
  },
  {
   "cell_type": "code",
   "execution_count": 6,
   "id": "95d7a23b-500e-4bc3-bc55-464557ed98d9",
   "metadata": {},
   "outputs": [],
   "source": [
    "def f_factorial(n:int) -> int:\n",
    "    return math.factorial(n)"
   ]
  },
  {
   "cell_type": "markdown",
   "id": "6dc2eaf3-bfce-460a-9abb-ae27ff8d6a22",
   "metadata": {},
   "source": [
    "### Cálculo de tiempos en microsegundos\n",
    "Se requiere calcular cada uno de los tiempos que se muestran en la tabla de la descripción del problema."
   ]
  },
  {
   "cell_type": "code",
   "execution_count": 7,
   "id": "f500f2bd-7056-4599-ba3d-b5e8ce78d6dc",
   "metadata": {},
   "outputs": [],
   "source": [
    "tiempos = [\n",
    "    1,         # 1 segundo\n",
    "    60,        # 1 minuto\n",
    "    3600,      # 1 hora\n",
    "    86400,     # 1 día (24 horas * 60 minutos * 60 segundos)\n",
    "    2592000,   # 1 mes (30 días * 86400 segundos/día)\n",
    "    31536000   # 1 año (365 días * 86400 segundos/día)\n",
    "]"
   ]
  },
  {
   "cell_type": "code",
   "execution_count": 8,
   "id": "aa37a1e5-764f-4a1d-bf87-99974248dbe1",
   "metadata": {},
   "outputs": [],
   "source": [
    "data = []"
   ]
  },
  {
   "cell_type": "code",
   "execution_count": 9,
   "id": "448a91e2-2742-41d7-b132-ddb25f77684d",
   "metadata": {},
   "outputs": [],
   "source": [
    "# Funciones de Complejidad\n",
    "data.append(['O(n)', 'O(nlogn)', 'O(n^2)', 'O(2^n)', 'O(n!)'])"
   ]
  },
  {
   "cell_type": "markdown",
   "id": "f0d6a205-2739-4f72-9231-77b2760d80d4",
   "metadata": {},
   "source": [
    "### 4. Cálculo de Valor Máximo para cada función de complejidad en cada tiempo t"
   ]
  },
  {
   "cell_type": "code",
   "execution_count": 10,
   "id": "8c1b75d9-f1a0-4af3-8e1f-a5d384bcd686",
   "metadata": {},
   "outputs": [],
   "source": [
    "# Ciclo sobre cada elemento de la lista tiempos\n",
    "for t in tiempos:\n",
    "    # Crear una lista vacía para almacenar los resultados\n",
    "    temp = []\n",
    "    # Ciclo sobre cada función de complejidad\n",
    "    for f in [f_lineal, f_cuadratico, f_lineal_log, f_exponencial, f_factorial]:\n",
    "        # Inicializar el número máximo a 1\n",
    "        n_max = 1\n",
    "        # Buscar el mayor número entero que satisfaga la condición\n",
    "        while True:\n",
    "            # Aumentar en 1 al número máximo\n",
    "            n_max += 1\n",
    "            # Verificar si la función aplicada al número máximo es mayor que t\n",
    "            if f(n_max) > t:\n",
    "                # Si es así, detener el ciclo y almacenar el número máximo\n",
    "                break\n",
    "        # Almacenar el resultado en la lista de resultados de todas las funciones para ese tiempo t\n",
    "        temp.append(n_max)\n",
    "    # Agregar la lista calc a la lista principal data\n",
    "    data.append(temp)"
   ]
  },
  {
   "cell_type": "markdown",
   "id": "7966273a-c391-4433-bfa9-13a5f3b780ba",
   "metadata": {},
   "source": [
    "### 5. Creación de DataFrame\n",
    "Se crea un DataFrame (pandas) para mostrar los resultados como se pide en la descripción del ejercicio."
   ]
  },
  {
   "cell_type": "code",
   "execution_count": 11,
   "id": "32c4e377-ed59-4a5a-89e5-f06186f29e28",
   "metadata": {},
   "outputs": [],
   "source": [
    "columnas = ['Función', '1 seg', '1 min', '1 hora', '1 día', '1 mes', '1 año']"
   ]
  },
  {
   "cell_type": "code",
   "execution_count": 12,
   "id": "8e166289-1235-4fd3-9139-0e5816ee3ac4",
   "metadata": {},
   "outputs": [],
   "source": [
    "df = pd.DataFrame(data).T"
   ]
  },
  {
   "cell_type": "code",
   "execution_count": 13,
   "id": "1fb67e16-f078-4acb-80af-40f1adf50a58",
   "metadata": {},
   "outputs": [],
   "source": [
    "df.columns = columnas"
   ]
  },
  {
   "cell_type": "code",
   "execution_count": 14,
   "id": "bc431d9a-de7a-47b8-b7c5-b90c25ce0779",
   "metadata": {},
   "outputs": [
    {
     "data": {
      "text/html": [
       "<div>\n",
       "<style scoped>\n",
       "    .dataframe tbody tr th:only-of-type {\n",
       "        vertical-align: middle;\n",
       "    }\n",
       "\n",
       "    .dataframe tbody tr th {\n",
       "        vertical-align: top;\n",
       "    }\n",
       "\n",
       "    .dataframe thead th {\n",
       "        text-align: right;\n",
       "    }\n",
       "</style>\n",
       "<table border=\"1\" class=\"dataframe\">\n",
       "  <thead>\n",
       "    <tr style=\"text-align: right;\">\n",
       "      <th></th>\n",
       "      <th>Función</th>\n",
       "      <th>1 seg</th>\n",
       "      <th>1 min</th>\n",
       "      <th>1 hora</th>\n",
       "      <th>1 día</th>\n",
       "      <th>1 mes</th>\n",
       "      <th>1 año</th>\n",
       "    </tr>\n",
       "  </thead>\n",
       "  <tbody>\n",
       "    <tr>\n",
       "      <th>0</th>\n",
       "      <td>O(n)</td>\n",
       "      <td>2</td>\n",
       "      <td>61</td>\n",
       "      <td>3601</td>\n",
       "      <td>86401</td>\n",
       "      <td>2592001</td>\n",
       "      <td>31536001</td>\n",
       "    </tr>\n",
       "    <tr>\n",
       "      <th>1</th>\n",
       "      <td>O(nlogn)</td>\n",
       "      <td>2</td>\n",
       "      <td>8</td>\n",
       "      <td>61</td>\n",
       "      <td>294</td>\n",
       "      <td>1610</td>\n",
       "      <td>5616</td>\n",
       "    </tr>\n",
       "    <tr>\n",
       "      <th>2</th>\n",
       "      <td>O(n^2)</td>\n",
       "      <td>2</td>\n",
       "      <td>21</td>\n",
       "      <td>568</td>\n",
       "      <td>9440</td>\n",
       "      <td>211394</td>\n",
       "      <td>2161994</td>\n",
       "    </tr>\n",
       "    <tr>\n",
       "      <th>3</th>\n",
       "      <td>O(2^n)</td>\n",
       "      <td>2</td>\n",
       "      <td>6</td>\n",
       "      <td>12</td>\n",
       "      <td>17</td>\n",
       "      <td>22</td>\n",
       "      <td>25</td>\n",
       "    </tr>\n",
       "    <tr>\n",
       "      <th>4</th>\n",
       "      <td>O(n!)</td>\n",
       "      <td>2</td>\n",
       "      <td>5</td>\n",
       "      <td>7</td>\n",
       "      <td>9</td>\n",
       "      <td>10</td>\n",
       "      <td>11</td>\n",
       "    </tr>\n",
       "  </tbody>\n",
       "</table>\n",
       "</div>"
      ],
      "text/plain": [
       "    Función 1 seg 1 min 1 hora  1 día    1 mes     1 año\n",
       "0      O(n)     2    61   3601  86401  2592001  31536001\n",
       "1  O(nlogn)     2     8     61    294     1610      5616\n",
       "2    O(n^2)     2    21    568   9440   211394   2161994\n",
       "3    O(2^n)     2     6     12     17       22        25\n",
       "4     O(n!)     2     5      7      9       10        11"
      ]
     },
     "execution_count": 14,
     "metadata": {},
     "output_type": "execute_result"
    }
   ],
   "source": [
    "df"
   ]
  }
 ],
 "metadata": {
  "kernelspec": {
   "display_name": "Python 3 (ipykernel)",
   "language": "python",
   "name": "python3"
  },
  "language_info": {
   "codemirror_mode": {
    "name": "ipython",
    "version": 3
   },
   "file_extension": ".py",
   "mimetype": "text/x-python",
   "name": "python",
   "nbconvert_exporter": "python",
   "pygments_lexer": "ipython3",
   "version": "3.10.13"
  }
 },
 "nbformat": 4,
 "nbformat_minor": 5
}
